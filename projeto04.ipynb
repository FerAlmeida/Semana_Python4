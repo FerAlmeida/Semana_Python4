{
 "cells": [
  {
   "cell_type": "markdown",
   "metadata": {},
   "source": [
    "#### Projeto 04\n",
    "\n",
    "   - pip install opencv-python         ->  Biblioteca Python para Visão Computacional\n",
    "   - pip install mediapipe             ->  Biblioteca Inteligência Computacional (by Google)\n",
    "   - pip install cvzone                ->  Biblioteca que facilita todo nosso trabalho"
   ]
  },
  {
   "cell_type": "markdown",
   "metadata": {},
   "source": [
    "** Looping com while"
   ]
  },
  {
   "cell_type": "code",
   "execution_count": 1,
   "metadata": {},
   "outputs": [
    {
     "name": "stdout",
     "output_type": "stream",
     "text": [
      "5\n",
      "4\n",
      "3\n",
      "2\n",
      "1\n"
     ]
    }
   ],
   "source": [
    "contador = 5\n",
    "\n",
    "while contador > 0:\n",
    "    print(contador)\n",
    "    contador = contador -1\n"
   ]
  },
  {
   "cell_type": "markdown",
   "metadata": {},
   "source": [
    "** Testes lógicos com if"
   ]
  },
  {
   "cell_type": "code",
   "execution_count": 2,
   "metadata": {},
   "outputs": [
    {
     "name": "stdout",
     "output_type": "stream",
     "text": [
      "Melhor linguagem do mundo!\n"
     ]
    }
   ],
   "source": [
    "linguagem = \"Python\"\n",
    "\n",
    "if linguagem == \"Python\":\n",
    "    print(\"Melhor linguagem do mundo!\")"
   ]
  },
  {
   "cell_type": "code",
   "execution_count": 4,
   "metadata": {},
   "outputs": [
    {
     "name": "stdout",
     "output_type": "stream",
     "text": [
      "Não é a melhor linguagem do mundo!\n"
     ]
    }
   ],
   "source": [
    "linguagem = \"Cobol\"\n",
    "\n",
    "if linguagem != \"Python\":\n",
    "    print(\"Não é a melhor linguagem do mundo!\")"
   ]
  },
  {
   "cell_type": "markdown",
   "metadata": {},
   "source": [
    "** Loopings Infinito \n",
    "###### Um looping constante, até que algo aconteça"
   ]
  },
  {
   "cell_type": "code",
   "execution_count": 5,
   "metadata": {},
   "outputs": [
    {
     "name": "stdout",
     "output_type": "stream",
     "text": [
      "Foi digitado Python\n",
      "Pediu pra digitar algo de novo\n",
      "Só vai parar quando for digitado \"parar\"\n",
      "parar\n"
     ]
    }
   ],
   "source": [
    "while True:                                             # faça alguma coisa\n",
    "    mensagem = input(\"Digite algo: \")\n",
    "    print(mensagem)\n",
    "\n",
    "    if mensagem == \"parar\":                             # se mensagem for igual a parar\n",
    "        break                                           # pare"
   ]
  },
  {
   "cell_type": "markdown",
   "metadata": {},
   "source": [
    "###### O Projeto de Visão Computacional será elaborado diretamente no arquivo .py, sem auxilio do jupyter"
   ]
  }
 ],
 "metadata": {
  "kernelspec": {
   "display_name": "Python 3",
   "language": "python",
   "name": "python3"
  },
  "language_info": {
   "codemirror_mode": {
    "name": "ipython",
    "version": 3
   },
   "file_extension": ".py",
   "mimetype": "text/x-python",
   "name": "python",
   "nbconvert_exporter": "python",
   "pygments_lexer": "ipython3",
   "version": "3.12.2"
  }
 },
 "nbformat": 4,
 "nbformat_minor": 2
}
